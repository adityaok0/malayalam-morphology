{
 "cells": [
  {
   "cell_type": "code",
   "execution_count": null,
   "metadata": {},
   "outputs": [],
   "source": [
    "import re\n",
    "from collections import Counter\n",
    "import pickle\n",
    "import Levenshtein\n",
    "import triee"
   ]
  },
  {
   "cell_type": "code",
   "execution_count": null,
   "metadata": {},
   "outputs": [],
   "source": [
    "with open('/home/space/Desktop/root.pkl', 'rb') as inputfile:\n",
    "     root = pickle.load(inputfile)\n",
    "with open('/home/space/Desktop/reroot.pkl', 'rb') as inputfile:\n",
    "     reroot = pickle.load(inputfile)\n",
    "with open('/home/space/Desktop/wordlist.pkl', 'rb') as inputfile:\n",
    "     wordList = pickle.load(inputfile)"
   ]
  },
  {
   "cell_type": "code",
   "execution_count": null,
   "metadata": {},
   "outputs": [],
   "source": [
    "def findWords(root, word: str):\n",
    "    wList = []\n",
    "    na = \"\"\n",
    "    for i in range(len(word)):\n",
    "        na=word[:i+1]\n",
    "        no = triee.findNode(root, na)\n",
    "        child = no.children\n",
    "        for j in child:\n",
    "            if j.wordFinished:\n",
    "                wr=na+j.char\n",
    "                wList.append(wr)\n",
    "    return list(set(wList))"
   ]
  },
  {
   "cell_type": "code",
   "execution_count": null,
   "metadata": {},
   "outputs": [],
   "source": [
    "def findList(root,reroot, word:str):\n",
    "    forList = []\n",
    "    bacList = []\n",
    "    stri = \"\"\n",
    "    freq = 0\n",
    "    for i in word:\n",
    "        stri += i\n",
    "        #print(\"word:\\t\",stri)\n",
    "        #triee.findPrefix(root, stri)\n",
    "        try:\n",
    "            for n in findWords(root, stri):\n",
    "                forList.append(n)\n",
    "            #bacList.append(triee.findWords(reroot, stri[::-1]))\n",
    "        except:\n",
    "            #print(\"exception:\",stri)\n",
    "            a=0\n",
    "    stri = \"\"\n",
    "    for i in word[::-1]:\n",
    "        stri += i\n",
    "        #print(\"word:\\t\",stri)\n",
    "        #triee.findPrefix(root, stri)\n",
    "        try:\n",
    "            for n in findWords(reroot, stri):\n",
    "                bacList.append(n)\n",
    "            #forList.append(triee.findWords(root, stri))\n",
    "        except:\n",
    "            #print(\"exception:\",stri)\n",
    "            a=0\n",
    "    \n",
    "    return list(set(forList)) , list(set(bacList))"
   ]
  },
  {
   "cell_type": "code",
   "execution_count": null,
   "metadata": {},
   "outputs": [],
   "source": [
    "def wordSplit(root, reroot, word):\n",
    "    f,r = findList(root, reroot, word)\n",
    "    for i in f:\n",
    "        regx = re.compile(i)\n",
    "        for j in r:\n",
    "            regx2 = re.compile(j)\n",
    "            if regx.search(word):\n",
    "                #if len(i+j) == len(word):\n",
    "                if regx2.search(word[::-1]):\n",
    "                    if len(i+j)>= len(word)-2 and len(i+j)<=len(word):\n",
    "                        Lev=Levenshtein.ratio(i+j[::-1],word)\n",
    "                        if Lev >= .95:\n",
    "                            print (i,\"+\",j[::-1],Lev)\n",
    "                    \n",
    "                        "
   ]
  },
  {
   "cell_type": "code",
   "execution_count": null,
   "metadata": {},
   "outputs": [],
   "source": [
    "def wordSplit3(root, reroot, word):\n",
    "    f,r = findList(root, reroot, word)\n",
    "    combined = []\n",
    "    for i in f:\n",
    "        for j in r:\n",
    "            if Levenshtein.ratio(i, word[:len(i)])>=.98 and Levenshtein.ratio(j[::-1], word[len(word)-len(j):])>=.98:\n",
    "                Lev=Levenshtein.ratio(i+j[::-1],word)\n",
    "                if Lev>.9:\n",
    "                    if len(i) < len(word) and len(j) < len(word):\n",
    "                        if len(i+j)>= len(word)-2 and len(i+j)<=len(word):\n",
    "                            combined.append([i,j[::-1],Lev])\n",
    "    a = sorted(combined,key=lambda y: y[2],reverse=True)\n",
    "    #print(a)\n",
    "    return a[:10]"
   ]
  },
  {
   "cell_type": "code",
   "execution_count": null,
   "metadata": {},
   "outputs": [],
   "source": [
    "def wordSplit1lev(root, reroot, word):\n",
    "    f,r = findList(root, reroot, word)\n",
    "    combined=[]\n",
    "    for i in f:\n",
    "        for j in r:\n",
    "            Lev=Levenshtein.ratio(i+j[::-1],word)\n",
    "            if Lev>.75:\n",
    "                if len(i) < len(word) and len(j) < len(word):\n",
    "                    if len(i+j)>= len(word)-2 and len(i+j)<=len(word):\n",
    "                        combined.append([i,j[::-1],Lev])\n",
    "    a = sorted(combined,key=lambda y: y[2],reverse=True)\n",
    "    #print(a[:30])\n",
    "    return a"
   ]
  },
  {
   "cell_type": "code",
   "execution_count": null,
   "metadata": {},
   "outputs": [],
   "source": [
    "def wordSplit2(root, reroot, word):\n",
    "    f,r = findList(root, reroot, word)\n",
    "    combined=[]\n",
    "    for i in f:\n",
    "        for j in r:\n",
    "            Lev=Levenshtein.ratio(i+j[::-1],word)\n",
    "            fr=Levenshtein.ratio(i,word)\n",
    "            re=Levenshtein.ratio(j[::-1],word)\n",
    "            if Lev>.75:\n",
    "                if len(i) < len(word) and len(j) < len(word):\n",
    "                    if len(i+j)>= len(word)-2 and len(i+j)<=len(word):\n",
    "                        combined.append([i,j[::-1],Lev+fr+re])\n",
    "    a = sorted(combined,key=lambda y: y[2],reverse=True)\n",
    "    #print(a[:30])\n",
    "    return a[:10]"
   ]
  },
  {
   "cell_type": "code",
   "execution_count": null,
   "metadata": {},
   "outputs": [],
   "source": [
    "def wordList4(word):\n",
    "    f,r = findList(root, reroot, word)\n",
    "    lf = 0.0\n",
    "    lr = 0.0\n",
    "    for i in f:\n",
    "        if len(i) != len(word):\n",
    "            Lev=Levenshtein.ratio(i,word)\n",
    "            #print(i,Lev)\n",
    "            if lf<Lev:\n",
    "                lf = Lev\n",
    "                fc = len(i)\n",
    "        #print(\"\\n\")\n",
    "    for i in r:\n",
    "        if len(i) != len(word):\n",
    "            Lev=Levenshtein.ratio(i[::-1],word)\n",
    "            #print(i[::-1],Lev)\n",
    "            if lr< Lev:\n",
    "                lr = Lev\n",
    "                rc = len(i)\n",
    "        #print(lf,lr)\n",
    "    if lf > lr:\n",
    "        return word[:fc], word[fc:], lf\n",
    "    else:\n",
    "        le = len(word)-rc\n",
    "        return word[:le], word[le:],lr"
   ]
  },
  {
   "cell_type": "code",
   "execution_count": null,
   "metadata": {},
   "outputs": [],
   "source": [
    "def testSplit(listt):\n",
    "    \n",
    "    for i in listt:\n",
    "        print(i+\"  =\")\n",
    "        wList = []\n",
    "        wlist = wordSplit3(root,reroot,i)\n",
    "        if not wlist and len(i)>6:\n",
    "            print(\"(approx.)\")\n",
    "            wlist = wordSplit2(root,reroot,i)\n",
    "            wlist.append(list(wordList4(i)))\n",
    "        if wlist:\n",
    "            for k in wlist:\n",
    "                print(k)\n",
    "        print(\"--------------\")"
   ]
  },
  {
   "cell_type": "code",
   "execution_count": null,
   "metadata": {},
   "outputs": [],
   "source": [
    "def multiple_replace(text):\n",
    "    dict={'\\u0D23\\u0D4D\\u200D':'\\u0D7A',\n",
    "         '\\u0D28\\u0D4D\\u200D':'\\u0D7B',\n",
    "         '\\u0D30\\u0D4D\\u200D':'\\u0D7C',\n",
    "         '\\u0D32\\u0D4D\\u200D':'\\u0D7D',\n",
    "         '\\u0D33\\u0D4D\\u200D':'\\u0D7E',\n",
    "         '\\u200a':'',\n",
    "         '\\u200c':'',\n",
    "         '\\u200d':'',\n",
    "         '\\u200b':'',\n",
    "         '\\u200e':'',\n",
    "         '\\u200f':''}\n",
    "    \n",
    "    regex = re.compile(\"(%s)\" % \"|\".join(map(re.escape, dict.keys())))\n",
    "    return regex.sub(lambda mo: dict[mo.string[mo.start():mo.end()]], text) "
   ]
  },
  {
   "cell_type": "code",
   "execution_count": null,
   "metadata": {},
   "outputs": [],
   "source": [
    "testSplit([\"അവളെവിടെ\"])"
   ]
  },
  {
   "cell_type": "code",
   "execution_count": null,
   "metadata": {},
   "outputs": [],
   "source": []
  },
  {
   "cell_type": "code",
   "execution_count": null,
   "metadata": {},
   "outputs": [],
   "source": []
  }
 ],
 "metadata": {
  "kernelspec": {
   "display_name": "Python 3",
   "language": "python",
   "name": "python3"
  },
  "language_info": {
   "codemirror_mode": {
    "name": "ipython",
    "version": 3
   },
   "file_extension": ".py",
   "mimetype": "text/x-python",
   "name": "python",
   "nbconvert_exporter": "python",
   "pygments_lexer": "ipython3",
   "version": "3.6.5"
  }
 },
 "nbformat": 4,
 "nbformat_minor": 2
}
